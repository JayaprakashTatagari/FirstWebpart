{
  "nbformat": 4,
  "nbformat_minor": 0,
  "metadata": {
    "colab": {
      "name": "practice_python_1.ipynb",
      "provenance": [],
      "include_colab_link": true
    },
    "kernelspec": {
      "name": "python3",
      "display_name": "Python 3"
    },
    "language_info": {
      "name": "python"
    }
  },
  "cells": [
    {
      "cell_type": "markdown",
      "metadata": {
        "id": "view-in-github",
        "colab_type": "text"
      },
      "source": [
        "<a href=\"https://colab.research.google.com/github/JayaprakashTatagari/FirstWebpart/blob/master/practice_python_1.ipynb\" target=\"_parent\"><img src=\"https://colab.research.google.com/assets/colab-badge.svg\" alt=\"Open In Colab\"/></a>"
      ]
    },
    {
      "cell_type": "code",
      "execution_count": null,
      "metadata": {
        "colab": {
          "base_uri": "https://localhost:8080/"
        },
        "id": "0dDnjKoU7EpR",
        "outputId": "d3ae313d-92c9-45e7-aa3d-f1cbb4fd2fed"
      },
      "outputs": [
        {
          "output_type": "stream",
          "name": "stdout",
          "text": [
            "what is ur name? madhupriya\n",
            "hello madhupriya\n",
            "what is ur birth year: 1992\n",
            "30\n"
          ]
        }
      ],
      "source": [
        "name = input(\"what is ur name? \")\n",
        "\n",
        "print(\"hello \" + name)\n",
        "\n",
        "birth_year = input(\"what is ur birth year: \")\n",
        "age = 2022   - int(birth_year)\n",
        "\n",
        "print(age)"
      ]
    },
    {
      "cell_type": "code",
      "source": [
        "#calculator program\n",
        "first_number = input(\"enter first number: \")\n",
        "second_number = input(\"enter second number: \")\n",
        "sum = float(first_number)+ float(second_number)\n",
        "\n",
        "print(\"sum of 2 numbers is: {}\".format(sum))"
      ],
      "metadata": {
        "colab": {
          "base_uri": "https://localhost:8080/"
        },
        "id": "YyJpXABPCw6G",
        "outputId": "bbbc9f02-d786-4652-e719-1be53c077ab2"
      },
      "execution_count": null,
      "outputs": [
        {
          "output_type": "stream",
          "name": "stdout",
          "text": [
            "enter first number: 99\n",
            "enter second number: 2.0\n",
            "sum of 2 numbers is: 101.0\n"
          ]
        }
      ]
    },
    {
      "cell_type": "code",
      "source": [
        "#string functions\n",
        "course = \"python for beginners\"\n",
        "print(course.upper())\n",
        "print(course.lower())\n",
        "print(course.find('y'))\n",
        "print(course.find('for'))\n",
        "print(course.replace('for','to'))\n",
        "print('python' in course) #finding string\n"
      ],
      "metadata": {
        "colab": {
          "base_uri": "https://localhost:8080/"
        },
        "id": "1qKX7lRZE3xw",
        "outputId": "3f6f4d5d-11ac-45f8-c2d3-d3c29f5d75e5"
      },
      "execution_count": null,
      "outputs": [
        {
          "output_type": "stream",
          "name": "stdout",
          "text": [
            "PYTHON FOR BEGINNERS\n",
            "python for beginners\n",
            "1\n",
            "7\n",
            "python to beginners\n",
            "True\n"
          ]
        }
      ]
    },
    {
      "cell_type": "code",
      "source": [
        "#arithmetice operators\n",
        "print(10+3)\n",
        "print(10-3)\n",
        "print(10*3)\n",
        "print(10/3)\n",
        "print(10//3)\n",
        "print(10%3)\n",
        "print(10 ** 3)\n",
        "\n",
        "\n",
        "x = 3\n",
        "x += 3 #augmented assignment operator\n",
        "x *= 3"
      ],
      "metadata": {
        "colab": {
          "base_uri": "https://localhost:8080/"
        },
        "id": "L53_yHLCF94g",
        "outputId": "138e8831-8cb1-48f2-de42-c951d2f37943"
      },
      "execution_count": null,
      "outputs": [
        {
          "output_type": "stream",
          "name": "stdout",
          "text": [
            "13\n",
            "7\n",
            "30\n",
            "3.3333333333333335\n",
            "3\n",
            "1\n",
            "1000\n"
          ]
        }
      ]
    },
    {
      "cell_type": "code",
      "source": [
        "#comparision operator(<,>,<=,>=,!=,==)\n",
        "\n",
        "x = 3 > 2\n",
        "print(x)\n",
        "\n",
        "#logical operator (and, or , not)\n",
        "\n",
        "price = 25\n",
        "print(price > 10 and price < 30)\n",
        "print(price > 10 or price < 30)\n",
        "print(not(price>10))\n",
        "\n"
      ],
      "metadata": {
        "colab": {
          "base_uri": "https://localhost:8080/"
        },
        "id": "ON4nG4MKGomy",
        "outputId": "e5c18316-f803-443f-dada-7e1df1bebf71"
      },
      "execution_count": null,
      "outputs": [
        {
          "output_type": "stream",
          "name": "stdout",
          "text": [
            "True\n",
            "True\n",
            "True\n",
            "False\n"
          ]
        }
      ]
    },
    {
      "cell_type": "code",
      "source": [
        "#if statments in python\n",
        "\n",
        "temperature = 25\n",
        "\n",
        "if temperature>30:\n",
        "  print(\"the day is hotter\")\n",
        "  print(\"drink pleanty of water\")\n",
        "elif temperature > 20:\n",
        "  print(\"its a nice day\")\n",
        "else:\n",
        "  print(\"the normal day\")\n"
      ],
      "metadata": {
        "colab": {
          "base_uri": "https://localhost:8080/"
        },
        "id": "L-OOA5BqHwE6",
        "outputId": "f4cd4a29-1251-46f3-865b-c8aba4cf91d4"
      },
      "execution_count": null,
      "outputs": [
        {
          "output_type": "stream",
          "name": "stdout",
          "text": [
            "its a nice day\n"
          ]
        }
      ]
    },
    {
      "cell_type": "code",
      "source": [
        "weight = float(input(\"what is your weight: \"))\n",
        "kg_lb  = input(\"metric is it (K)g or (L)bs :\")\n",
        "if kg_lb.upper() == \"K\":\n",
        "    converted = weight / 0.45\n",
        "    print(\"Weight in Lb is:\" + str(converted))\n",
        "elif kg_lb.upper() == \"L\":\n",
        "     converted = weight / 0.45\n",
        "     print(\"Weight in Kg is:\" + str(converted))\n",
        "else:\n",
        "  print(\"Invalid metric\")"
      ],
      "metadata": {
        "colab": {
          "base_uri": "https://localhost:8080/"
        },
        "id": "TTXVE8KdI7rM",
        "outputId": "6f535919-506e-479e-fe85-28a1cfa67acf"
      },
      "execution_count": null,
      "outputs": [
        {
          "output_type": "stream",
          "name": "stdout",
          "text": [
            "what is your weight: 99\n",
            "metric is it (K)g or (L)bs :k\n",
            "Weight in Lb is:220.0\n"
          ]
        }
      ]
    },
    {
      "cell_type": "code",
      "source": [
        "#While loop\n",
        "\n",
        "i = 1\n",
        "while i <= 5:\n",
        "  print(i)\n",
        "  i += 1"
      ],
      "metadata": {
        "colab": {
          "base_uri": "https://localhost:8080/"
        },
        "id": "D_jTcCLyLxw5",
        "outputId": "4aee22f0-ca07-43a3-ef70-d3084667ba61"
      },
      "execution_count": null,
      "outputs": [
        {
          "output_type": "stream",
          "name": "stdout",
          "text": [
            "1\n",
            "2\n",
            "3\n",
            "4\n",
            "5\n"
          ]
        }
      ]
    },
    {
      "cell_type": "code",
      "source": [
        "i = 1\n",
        "while i <= 10:\n",
        "  print(i * '*')\n",
        "  i+=1\n",
        "   "
      ],
      "metadata": {
        "colab": {
          "base_uri": "https://localhost:8080/"
        },
        "id": "w-6Oc-pKMeSZ",
        "outputId": "8e8439ee-9653-44c0-fead-157538ba35f4"
      },
      "execution_count": null,
      "outputs": [
        {
          "output_type": "stream",
          "name": "stdout",
          "text": [
            "*\n",
            "**\n",
            "***\n",
            "****\n",
            "*****\n",
            "******\n",
            "*******\n",
            "********\n",
            "*********\n",
            "**********\n"
          ]
        }
      ]
    },
    {
      "cell_type": "code",
      "source": [
        "#Lists\n",
        "\n",
        "names = [\"madhu\",\"chethan\",\"prakash\",\"junnu\"]\n",
        "names[0] = 'madu'\n",
        "print(names)\n",
        "print(names[0])\n",
        "print(names[-1])\n",
        "print(names[-4])\n",
        "\n",
        "print(names[0:3])"
      ],
      "metadata": {
        "colab": {
          "base_uri": "https://localhost:8080/"
        },
        "id": "dK6Icz9KMxe9",
        "outputId": "7f7eb069-e72c-4dcc-9b88-8bf29bbccc90"
      },
      "execution_count": null,
      "outputs": [
        {
          "output_type": "stream",
          "name": "stdout",
          "text": [
            "['madu', 'chethan', 'prakash', 'junnu']\n",
            "madu\n",
            "junnu\n",
            "madu\n",
            "['madu', 'chethan', 'prakash']\n"
          ]
        }
      ]
    },
    {
      "cell_type": "code",
      "source": [
        "#list methods\n",
        "\n",
        "fruits = [\"Apple\",\"Mango\",\"Sapota\",\"Banana\",\"Avocado\"]\n",
        "fruits.append(\"watermelon\")\n",
        "print(fruits)\n",
        "fruits.insert(0,\"muskmelon\")\n",
        "print(fruits)\n",
        "print(\"Sapota\" in fruits)\n",
        "print(len(fruits))\n"
      ],
      "metadata": {
        "colab": {
          "base_uri": "https://localhost:8080/"
        },
        "id": "wBlxy0YUNjfR",
        "outputId": "aec8a502-d12b-47f0-9612-d14539e3982c"
      },
      "execution_count": null,
      "outputs": [
        {
          "output_type": "stream",
          "name": "stdout",
          "text": [
            "['Apple', 'Mango', 'Sapota', 'Banana', 'Avocado', 'watermelon']\n",
            "['muskmelon', 'Apple', 'Mango', 'Sapota', 'Banana', 'Avocado', 'watermelon']\n",
            "True\n",
            "7\n"
          ]
        }
      ]
    },
    {
      "cell_type": "code",
      "source": [
        "#For loop\n",
        "\n",
        "numbers = [1,2,3,4,5,6,7]\n",
        "\n",
        "for x in numbers:\n",
        "  print(x)\n",
        "\n",
        "i = 0\n",
        "\n",
        "while i < len(numbers):\n",
        "  print(numbers[i])\n",
        "  i += 1"
      ],
      "metadata": {
        "colab": {
          "base_uri": "https://localhost:8080/"
        },
        "id": "DQSySStOOkpV",
        "outputId": "0cec475b-4e3c-4c4f-ece4-b7de49c59d35"
      },
      "execution_count": null,
      "outputs": [
        {
          "output_type": "stream",
          "name": "stdout",
          "text": [
            "1\n",
            "2\n",
            "3\n",
            "4\n",
            "5\n",
            "6\n",
            "7\n",
            "1\n",
            "2\n",
            "3\n",
            "4\n",
            "5\n",
            "6\n",
            "7\n"
          ]
        }
      ]
    },
    {
      "cell_type": "code",
      "source": [
        "#range function\n",
        "\n",
        "numbers = range(5)\n",
        "print(numbers)\n",
        "\n",
        "for x in numbers:\n",
        "  print(x)\n",
        "\n",
        "numbers = range(5,10)\n",
        "\n",
        "for x in numbers:\n",
        "  print(x)\n",
        "\n",
        "\n",
        "numbers = range(5,10,2)\n",
        "\n",
        "for x in numbers:\n",
        "  print(x)"
      ],
      "metadata": {
        "colab": {
          "base_uri": "https://localhost:8080/"
        },
        "id": "aLE-xRcWPI2i",
        "outputId": "af3236c2-73bd-4a7e-dbfa-0a00c9691591"
      },
      "execution_count": null,
      "outputs": [
        {
          "output_type": "stream",
          "name": "stdout",
          "text": [
            "range(0, 5)\n",
            "0\n",
            "1\n",
            "2\n",
            "3\n",
            "4\n",
            "5\n",
            "6\n",
            "7\n",
            "8\n",
            "9\n",
            "5\n",
            "7\n",
            "9\n"
          ]
        }
      ]
    },
    {
      "cell_type": "code",
      "source": [
        "#Tuples \n",
        "#tuples are unchangeble\n",
        "\n",
        "\n",
        "numbers = (1,2,3,4)\n",
        "print(numbers.count(3))\n"
      ],
      "metadata": {
        "colab": {
          "base_uri": "https://localhost:8080/"
        },
        "id": "Il7OrKOIP_fP",
        "outputId": "d3dd2bab-8fa1-4afa-eff4-e667a18f3858"
      },
      "execution_count": null,
      "outputs": [
        {
          "output_type": "stream",
          "name": "stdout",
          "text": [
            "1\n"
          ]
        }
      ]
    }
  ]
}